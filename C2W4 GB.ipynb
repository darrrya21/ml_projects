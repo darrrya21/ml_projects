{
 "cells": [
  {
   "cell_type": "markdown",
   "metadata": {},
   "source": [
    "# Градиентный бустинг своими руками\n",
    "\n",
    "**Внимание:** в тексте задания произошли изменения - поменялось число деревьев (теперь 50), правило изменения величины шага в задании 3 и добавился параметр `random_state` у решающего дерева. Правильные ответы не поменялись, но теперь их проще получить. Также исправлена опечатка в функции `gbm_predict`.\n",
    "\n",
    "В этом задании будет использоваться датасет `boston` из `sklearn.datasets`. Оставьте последние 25% объектов для контроля качества, разделив `X` и `y` на `X_train`, `y_train` и `X_test`, `y_test`.\n",
    "\n",
    "Целью задания будет реализовать простой вариант градиентного бустинга над регрессионными деревьями для случая квадратичной функции потерь."
   ]
  },
  {
   "cell_type": "code",
   "execution_count": 27,
   "metadata": {},
   "outputs": [
    {
     "name": "stdout",
     "output_type": "stream",
     "text": [
      "Populating the interactive namespace from numpy and matplotlib\n"
     ]
    }
   ],
   "source": [
    "from sklearn import datasets, model_selection, metrics, tree, linear_model\n",
    "import numpy as np\n",
    "%pylab inline"
   ]
  },
  {
   "cell_type": "code",
   "execution_count": 2,
   "metadata": {},
   "outputs": [],
   "source": [
    "X, y = datasets.load_boston(return_X_y=True)"
   ]
  },
  {
   "cell_type": "code",
   "execution_count": 3,
   "metadata": {},
   "outputs": [],
   "source": [
    "X_train, X_test, y_train, y_test = model_selection.train_test_split(X, y, test_size=0.25, random_state=0)"
   ]
  },
  {
   "cell_type": "markdown",
   "metadata": {},
   "source": [
    "## Задание 1\n",
    "\n",
    "Как вы уже знаете из лекций, **бустинг** - это метод построения композиций базовых алгоритмов с помощью последовательного добавления к текущей композиции нового алгоритма с некоторым коэффициентом. \n",
    "\n",
    "Градиентный бустинг обучает каждый новый алгоритм так, чтобы он приближал антиградиент ошибки по ответам композиции на обучающей выборке. Аналогично минимизации функций методом градиентного спуска, в градиентном бустинге мы подправляем композицию, изменяя алгоритм в направлении антиградиента ошибки.\n",
    "\n",
    "Воспользуйтесь формулой из лекций, задающей ответы на обучающей выборке, на которые нужно обучать новый алгоритм (фактически это лишь чуть более подробно расписанный градиент от ошибки), и получите частный ее случай, если функция потерь `L` - квадрат отклонения ответа композиции `a(x)` от правильного ответа `y` на данном `x`.\n",
    "\n",
    "Если вы давно не считали производную самостоятельно, вам поможет таблица производных элементарных функций (которую несложно найти в интернете) и правило дифференцирования сложной функции. После дифференцирования квадрата у вас возникнет множитель 2 — т.к. нам все равно предстоит выбирать коэффициент, с которым будет добавлен новый базовый алгоритм, проигноируйте этот множитель при дальнейшем построении алгоритма."
   ]
  },
  {
   "cell_type": "code",
   "execution_count": 4,
   "metadata": {},
   "outputs": [],
   "source": [
    "def f_derivative(y_pred, y): \n",
    "    return -(y_pred - y)"
   ]
  },
  {
   "cell_type": "markdown",
   "metadata": {},
   "source": [
    "## Задание 2\n",
    "\n",
    "Заведите массив для объектов `DecisionTreeRegressor` (будем их использовать в качестве базовых алгоритмов) и для вещественных чисел (это будут коэффициенты перед базовыми алгоритмами). \n",
    "\n",
    "В цикле от обучите последовательно 50 решающих деревьев с параметрами `max_depth=5` и `random_state=42` (остальные параметры - по умолчанию). В бустинге зачастую используются сотни и тысячи деревьев, но мы ограничимся 50, чтобы алгоритм работал быстрее, и его было проще отлаживать (т.к. цель задания разобраться, как работает метод). Каждое дерево должно обучаться на одном и том же множестве объектов, но ответы, которые учится прогнозировать дерево, будут меняться в соответствие с полученным в задании 1 правилом. \n",
    "\n",
    "Попробуйте для начала всегда брать коэффициент равным 0.9. Обычно оправдано выбирать коэффициент значительно меньшим - порядка 0.05 или 0.1, но т.к. в нашем учебном примере на стандартном датасете будет всего 50 деревьев, возьмем для начала шаг побольше.\n",
    "\n",
    "В процессе реализации обучения вам потребуется функция, которая будет вычислять прогноз построенной на данный момент композиции деревьев на выборке `X`:\n",
    "\n",
    "```\n",
    "def gbm_predict(X):\n",
    "    return [sum([coeff * algo.predict([x])[0] for algo, coeff in zip(base_algorithms_list, coefficients_list)]) for x in X]\n",
    "(считаем, что base_algorithms_list - список с базовыми алгоритмами, coefficients_list - список с коэффициентами перед алгоритмами)\n",
    "```\n",
    "\n",
    "Эта же функция поможет вам получить прогноз на контрольной выборке и оценить качество работы вашего алгоритма с помощью `mean_squared_error` в `sklearn.metrics`. \n",
    "\n",
    "Возведите результат в степень 0.5, чтобы получить `RMSE`. Полученное значение `RMSE` — **ответ в пункте 2**."
   ]
  },
  {
   "cell_type": "code",
   "execution_count": 30,
   "metadata": {},
   "outputs": [
    {
     "name": "stdout",
     "output_type": "stream",
     "text": [
      "0 90.41977190983029\n",
      "1 6.883139700352184\n",
      "2 3.731053650758252\n",
      "3 2.546052485038209\n",
      "4 1.8977299956151683\n",
      "5 1.561591883718383\n",
      "6 1.3409355527432596\n",
      "7 0.8804520372419956\n",
      "8 0.7459896196055704\n",
      "9 0.6290401477501559\n",
      "10 0.44593620711677195\n",
      "11 0.36118432910357917\n",
      "12 0.3222965867723138\n",
      "13 0.24911159947950012\n",
      "14 0.2152152510311992\n",
      "15 0.16926692991079198\n",
      "16 0.11219646332628085\n",
      "17 0.09068348957343701\n",
      "18 0.07663836747006447\n",
      "19 0.058512228419905755\n",
      "20 0.04280219280422263\n",
      "21 0.033500651972152545\n",
      "22 0.025686010305125538\n",
      "23 0.018342454449838803\n",
      "24 0.015641504616013244\n",
      "25 0.014899623073842254\n",
      "26 0.011751928680059955\n",
      "27 0.009010385102909475\n",
      "28 0.0062712146092662995\n",
      "29 0.004671570354053855\n",
      "30 0.0035096258537422468\n",
      "31 0.002851242813953211\n",
      "32 0.002053227022999147\n",
      "33 0.0018839322276534582\n",
      "34 0.0017520667973800084\n",
      "35 0.0013391638535163977\n",
      "36 0.000977809163240079\n",
      "37 0.0007832604774197537\n",
      "38 0.0006468587660162575\n",
      "39 0.0005009525426706187\n",
      "40 0.00036309232464720487\n",
      "41 0.00026629655277547813\n",
      "42 0.0001689243317548754\n",
      "43 0.00013753665214031864\n",
      "44 9.684860224544507e-05\n",
      "45 8.015851121339686e-05\n",
      "46 6.262292333607315e-05\n",
      "47 4.737660796531627e-05\n",
      "48 3.7966983118727366e-05\n",
      "49 3.088927068542739e-05\n"
     ]
    }
   ],
   "source": [
    "base_algorithms = [] # массив с базовыми алгоритмами, будем добавлять сюда на каждом шаге новый алгоритм\n",
    "coefficients = [0.9] * 50 #массив с нормами обучения\n",
    "\n",
    "# возвращает предсказанные значения\n",
    "# суммируем все значения, полученные на предыдущих алгоритмах с некоторым коэффициентом\n",
    "def gbm_predict(X): \n",
    "    return [sum([coeff * algo.predict([x])[0] for algo, coeff in zip(base_algorithms, coefficients)]) for x in X]\n",
    "\n",
    "\n",
    "answers = [y_train.mean()] * len(y_train) # инициализируем первый алгоритм средними значениями\n",
    "\n",
    "for i in range(50): \n",
    "    base_algorithms.append(tree.DecisionTreeRegressor(max_depth=5, random_state=42)) # добавляем алгоритм\n",
    "    base_algorithms[i].fit(X_train, answers) #обучаем на объектах и ответах (в первый раз это средние значения, дальше - антиградиент функции ошибок)\n",
    "    y_preds = gbm_predict(X_train)\n",
    "    answers = f_derivative(y_preds, y_train)\n",
    "    print(i, metrics.mean_squared_error(y_preds, y_train))\n",
    "\n",
    "\n"
   ]
  },
  {
   "cell_type": "code",
   "execution_count": 31,
   "metadata": {},
   "outputs": [
    {
     "data": {
      "text/plain": [
       "5.166426894718952"
      ]
     },
     "execution_count": 31,
     "metadata": {},
     "output_type": "execute_result"
    }
   ],
   "source": [
    "np.sqrt(metrics.mean_squared_error(gbm_predict(X_test), y_test))"
   ]
  },
  {
   "cell_type": "code",
   "execution_count": 23,
   "metadata": {},
   "outputs": [
    {
     "data": {
      "text/plain": [
       "[<matplotlib.lines.Line2D at 0x25d8e7d5c40>]"
      ]
     },
     "execution_count": 23,
     "metadata": {},
     "output_type": "execute_result"
    },
    {
     "data": {
      "image/png": "[encoded data removed]",
      "text/plain": [
       "<Figure size 432x288 with 1 Axes>"
      ]
     },
     "metadata": {
      "needs_background": "light"
     },
     "output_type": "display_data"
    }
   ],
   "source": [
    "pylab.plot(gbm_predict(X_test), y_test, 'o')"
   ]
  },
  {
   "cell_type": "markdown",
   "metadata": {},
   "source": [
    "## Задание 3\n",
    "\n",
    "Вас может также беспокоить, что двигаясь с постоянным шагом, вблизи минимума ошибки ответы на обучающей выборке меняются слишком резко, перескакивая через минимум. \n",
    "\n",
    "Попробуйте уменьшать вес перед каждым алгоритмом с каждой следующей итерацией по формуле `0.9 / (1.0 + i)`, где `i` - номер итерации (от 0 до 49). Используйте качество работы алгоритма как **ответ в пункте 3**. \n",
    "\n",
    "В реальности часто применяется следующая стратегия выбора шага: как только выбран алгоритм, подберем коэффициент перед ним численным методом оптимизации таким образом, чтобы отклонение от правильных ответов было минимальным. Мы не будем предлагать вам реализовать это для выполнения задания, но рекомендуем попробовать разобраться с такой стратегией и реализовать ее при случае для себя."
   ]
  },
  {
   "cell_type": "code",
   "execution_count": 32,
   "metadata": {},
   "outputs": [
    {
     "name": "stdout",
     "output_type": "stream",
     "text": [
      "0 90.41977190983029\n",
      "1 31.564417398607073\n",
      "2 17.564519068796738\n",
      "3 11.862048192627656\n",
      "4 8.78207262863517\n",
      "5 7.005198301476247\n",
      "6 5.828863544153835\n",
      "7 5.0398672438770165\n",
      "8 4.451149795228167\n",
      "9 4.004476232784491\n",
      "10 3.6360552187007733\n",
      "11 3.33953889112165\n",
      "12 3.1055655758017022\n",
      "13 2.9061293878542505\n",
      "14 2.742626957635481\n",
      "15 2.6060536601590165\n",
      "16 2.4894310640324755\n",
      "17 2.3634470947750317\n",
      "18 2.2694560308753817\n",
      "19 2.185835462291486\n",
      "20 2.09505606898683\n",
      "21 2.0086232559081023\n",
      "22 1.9301767629105095\n",
      "23 1.862598999688213\n",
      "24 1.8002406497486831\n",
      "25 1.742734315004897\n",
      "26 1.6997346790724632\n",
      "27 1.6543233877024817\n",
      "28 1.611811281099148\n",
      "29 1.5811860748482347\n",
      "30 1.545991958774937\n",
      "31 1.5183345399532915\n",
      "32 1.4836026470532189\n",
      "33 1.461241708883013\n",
      "34 1.4314623028889881\n",
      "35 1.406566786576827\n",
      "36 1.3827828808476144\n",
      "37 1.3596423775795423\n",
      "38 1.3368092870304324\n",
      "39 1.3125551903163781\n",
      "40 1.293659639162515\n",
      "41 1.2727898537717843\n",
      "42 1.2543205878262826\n",
      "43 1.2347512241640946\n",
      "44 1.2180690652252806\n",
      "45 1.2002645228969118\n",
      "46 1.1852266548861912\n",
      "47 1.170844026012042\n",
      "48 1.1556787903137458\n",
      "49 1.1415624025902593\n"
     ]
    }
   ],
   "source": [
    "base_algorithms = []\n",
    "coefficients = [0.9 / (1 + i) for i in range(50)]\n",
    "answers = [y_train.mean()] * len(y_train)\n",
    "\n",
    "for i in range(50): \n",
    "    base_algorithms.append(tree.DecisionTreeRegressor(max_depth=5, random_state=42))\n",
    "    base_algorithms[i].fit(X_train, answers)\n",
    "    y_preds = gbm_predict(X_train)\n",
    "    answers = f_derivative(y_preds, y_train)\n",
    "    print(i, metrics.mean_squared_error(y_train, y_preds))\n",
    "    "
   ]
  },
  {
   "cell_type": "code",
   "execution_count": 33,
   "metadata": {},
   "outputs": [
    {
     "data": {
      "text/plain": [
       "4.174423531675966"
      ]
     },
     "execution_count": 33,
     "metadata": {},
     "output_type": "execute_result"
    }
   ],
   "source": [
    "np.sqrt(metrics.mean_squared_error(gbm_predict(X_test), y_test))"
   ]
  },
  {
   "cell_type": "markdown",
   "metadata": {},
   "source": [
    "## Задание 4\n",
    "\n",
    "Реализованный вами метод - градиентный бустинг над деревьями - очень популярен в машинном обучении. Он представлен как в самой библиотеке `sklearn`, так и в сторонней библиотеке `XGBoost`, которая имеет свой питоновский интерфейс. На практике `XGBoost` работает заметно лучше `GradientBoostingRegressor` из `sklearn`, но для этого задания вы можете использовать любую реализацию. \n",
    "\n",
    "Исследуйте, переобучается ли градиентный бустинг с ростом числа итераций (и подумайте, почему), а также с ростом глубины деревьев. На основе наблюдений выпишите через пробел номера правильных из приведенных ниже утверждений в порядке возрастания номера (это будет **ответ в п.4**):\n",
    "\n",
    "    1. С увеличением числа деревьев, начиная с некоторого момента, качество работы градиентного бустинга не меняется существенно.\n",
    "\n",
    "    2. С увеличением числа деревьев, начиная с некоторого момента, градиентный бустинг начинает переобучаться.\n",
    "\n",
    "    3. С ростом глубины деревьев, начиная с некоторого момента, качество работы градиентного бустинга на тестовой выборке начинает ухудшаться.\n",
    "\n",
    "    4. С ростом глубины деревьев, начиная с некоторого момента, качество работы градиентного бустинга перестает существенно изменяться"
   ]
  },
  {
   "cell_type": "code",
   "execution_count": null,
   "metadata": {},
   "outputs": [],
   "source": [
    "import xgboost as xgb"
   ]
  },
  {
   "cell_type": "code",
   "execution_count": null,
   "metadata": {},
   "outputs": [],
   "source": [
    "xgbreg = xgb.XGBRegressor(random_state=42)\n",
    "n_trees = np.arange(10, 2000, 20)\n",
    "depths = np.arange(2, 50, 2)\n",
    "\n",
    "cv_trees = model_selection.validation_curve(xgbreg, X_train, y_train, param_name='n_estimators', \n",
    "                                param_range=n_trees, cv=3, n_jobs=-1, scoring='neg_mean_squared_error')"
   ]
  },
  {
   "cell_type": "code",
   "execution_count": null,
   "metadata": {},
   "outputs": [],
   "source": [
    "pylab.plot(n_trees, cv_trees[1].mean(axis=1) * -1)\n",
    "pylab.ylim(0, 10)"
   ]
  },
  {
   "cell_type": "code",
   "execution_count": null,
   "metadata": {},
   "outputs": [],
   "source": [
    "cv_depths = model_selection.validation_curve(xgbreg, X_train, y_train, param_name='max_depth', \n",
    "                                            param_range=depths, cv=3, n_jobs=-1, scoring='neg_mean_squared_error')"
   ]
  },
  {
   "cell_type": "code",
   "execution_count": null,
   "metadata": {},
   "outputs": [],
   "source": [
    "pylab.plot(depths, cv_depths[1].mean(axis=1) * -1)"
   ]
  },
  {
   "cell_type": "markdown",
   "metadata": {},
   "source": [
    "## Задание 5\n",
    "\n",
    "Сравните получаемое с помощью градиентного бустинга качество с качеством работы линейной регрессии. \n",
    "\n",
    "Для этого обучите `LinearRegression` из `sklearn.linear_model` (с параметрами по умолчанию) на обучающей выборке и оцените для прогнозов полученного алгоритма на тестовой выборке `RMSE`. Полученное качество - ответ в **пункте 5**. \n",
    "\n",
    "В данном примере качество работы простой модели должно было оказаться хуже, но не стоит забывать, что так бывает не всегда. В заданиях к этому курсу вы еще встретите пример обратной ситуации."
   ]
  },
  {
   "cell_type": "code",
   "execution_count": 38,
   "metadata": {},
   "outputs": [
    {
     "data": {
      "text/plain": [
       "5.457311159564073"
      ]
     },
     "execution_count": 38,
     "metadata": {},
     "output_type": "execute_result"
    }
   ],
   "source": [
    "linreg = linear_model.LinearRegression()\n",
    "linreg.fit(X_train, y_train)\n",
    "np.sqrt(metrics.mean_squared_error(y_test, linreg.predict(X_test)))"
   ]
  }
 ],
 "metadata": {
  "kernelspec": {
   "display_name": "Python 3",
   "language": "python",
   "name": "python3"
  },
  "language_info": {
   "codemirror_mode": {
    "name": "ipython",
    "version": 3
   },
   "file_extension": ".py",
   "mimetype": "text/x-python",
   "name": "python",
   "nbconvert_exporter": "python",
   "pygments_lexer": "ipython3",
   "version": "3.8.5"
  }
 },
 "nbformat": 4,
 "nbformat_minor": 1
}
