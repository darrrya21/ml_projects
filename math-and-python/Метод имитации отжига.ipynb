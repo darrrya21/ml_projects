{
 "cells": [
  {
   "cell_type": "markdown",
   "metadata": {},
   "source": [
    "# Метод имитации отжига"
   ]
  },
  {
   "cell_type": "code",
   "execution_count": 1,
   "metadata": {},
   "outputs": [],
   "source": [
    "from scipy.optimize import basinhopping\n",
    "import numpy as np\n",
    "import matplotlib.pyplot as plt\n",
    "from scipy.spatial.distance import euclidean\n",
    "%matplotlib inline"
   ]
  },
  {
   "cell_type": "code",
   "execution_count": 2,
   "metadata": {},
   "outputs": [
    {
     "data": {
      "text/plain": [
       "[<matplotlib.lines.Line2D at 0x1b32b682be0>]"
      ]
     },
     "execution_count": 2,
     "metadata": {},
     "output_type": "execute_result"
    },
    {
     "data": {
      "image/png": "[encoded data removed]",
      "text/plain": [
       "<Figure size 432x288 with 1 Axes>"
      ]
     },
     "metadata": {
      "needs_background": "light"
     },
     "output_type": "display_data"
    }
   ],
   "source": [
    "a = np.random.uniform(low=0, high=10, size=(100, 2))\n",
    "plt.plot(a[:, 0], a[:, 1], 'o')"
   ]
  },
  {
   "cell_type": "code",
   "execution_count": 3,
   "metadata": {},
   "outputs": [],
   "source": [
    "def simulatedannealing(L, tmax, tmin):\n",
    "    N = len(L)\n",
    "    t = tmax\n",
    "    current_state = np.random.choice(np.arange(0, N), size=N, replace=False)\n",
    "    def dist(L):\n",
    "        total_dist = 0\n",
    "        for i in range(1, len(L) - 1):\n",
    "            dist = euclidean(L[i], L[i-1])\n",
    "            total_dist += dist\n",
    "        total_dist += euclidean(L[0], L[len(L) - 1])\n",
    "        return total_dist\n",
    "    \n",
    "    current_dist = dist(L[current_state])\n",
    "    \n",
    "    def generate_state(current_state):\n",
    "        state = current_state.copy()\n",
    "        rv = sorted(np.random.choice(np.arange(0, len(state)), replace=False, size=2))\n",
    "        state2 = state[rv[0]: rv[1] + 1].copy()\n",
    "        state[rv[0]: rv[1] + 1] = state2[::-1]\n",
    "        return state\n",
    "        \n",
    "    \n",
    "    def get_trans_prob(D0, D, t): \n",
    "        return np.random.uniform() <= np.exp(-(D - D0) / t)\n",
    "    \n",
    "    for x in range(1, 100000):\n",
    "        new_state = generate_state(current_state)\n",
    "        new_dist = dist(L[new_state])\n",
    "        if (new_dist <= current_dist) or (get_trans_prob(current_dist, new_dist, t)): \n",
    "            current_state = new_state\n",
    "            current_dist = new_dist\n",
    "        else: \n",
    "            pass\n",
    "        t = tmax * 0.1 / x\n",
    "        if t < tmin: \n",
    "            break\n",
    "\n",
    "    \n",
    "    return L[current_state]"
   ]
  },
  {
   "cell_type": "code",
   "execution_count": null,
   "metadata": {},
   "outputs": [],
   "source": [
    "a = np.random.uniform(low=1, high=10, size=(100, 2))\n",
    "b = simulatedannealing(a, 10, 0.00001)\n",
    "plt.plot(b[:, 0], b[:, 1], '-o')"
   ]
  }
 ],
 "metadata": {
  "kernelspec": {
   "display_name": "Python 3",
   "language": "python",
   "name": "python3"
  },
  "language_info": {
   "codemirror_mode": {
    "name": "ipython",
    "version": 3
   },
   "file_extension": ".py",
   "mimetype": "text/x-python",
   "name": "python",
   "nbconvert_exporter": "python",
   "pygments_lexer": "ipython3",
   "version": "3.8.5"
  }
 },
 "nbformat": 4,
 "nbformat_minor": 4
}
