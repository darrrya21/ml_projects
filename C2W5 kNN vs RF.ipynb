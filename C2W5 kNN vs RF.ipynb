{
 "cells": [
  {
   "cell_type": "code",
   "execution_count": 76,
   "metadata": {},
   "outputs": [],
   "source": [
    "from sklearn import model_selection, ensemble, neighbors, datasets, metrics\n",
    "import numpy as np"
   ]
  },
  {
   "cell_type": "code",
   "execution_count": 11,
   "metadata": {},
   "outputs": [],
   "source": [
    "X, y = datasets.load_digits(as_frame=True, return_X_y=True)"
   ]
  },
  {
   "cell_type": "code",
   "execution_count": 13,
   "metadata": {},
   "outputs": [
    {
     "data": {
      "text/plain": [
       "False"
      ]
     },
     "execution_count": 13,
     "metadata": {},
     "output_type": "execute_result"
    }
   ],
   "source": [
    "X.isnull().any().any()"
   ]
  },
  {
   "cell_type": "code",
   "execution_count": 36,
   "metadata": {},
   "outputs": [],
   "source": [
    "test_index = int(np.ceil(X.shape[0] * 0.75))"
   ]
  },
  {
   "cell_type": "code",
   "execution_count": 37,
   "metadata": {},
   "outputs": [],
   "source": [
    "X_train, X_test, y_train, y_test = X.iloc[ :test_index], X.iloc[test_index: ], y.iloc[ :test_index], y.iloc[test_index: ]"
   ]
  },
  {
   "cell_type": "code",
   "execution_count": 39,
   "metadata": {},
   "outputs": [
    {
     "data": {
      "text/plain": [
       "((1348, 64), (449, 64), (1348,), (449,))"
      ]
     },
     "execution_count": 39,
     "metadata": {},
     "output_type": "execute_result"
    }
   ],
   "source": [
    "X_train.shape, X_test.shape, y_train.shape, y_test.shape"
   ]
  },
  {
   "cell_type": "code",
   "execution_count": 72,
   "metadata": {},
   "outputs": [],
   "source": [
    "def kNN(X_train, y_train, X_test): \n",
    "    dist = np.zeros((X_test.shape[0],))\n",
    "    for i in range(X_test.shape[0]):\n",
    "        x_distance = [np.inf]\n",
    "        min_idx = 0\n",
    "        for j in range(X_train.shape[0]): \n",
    "            d = np.linalg.norm(X_test.iloc[i] - X_train.iloc[j])\n",
    "            if d < min(x_distance): \n",
    "                x_distance.append(d)\n",
    "                min_idx = j\n",
    "        dist[i] = y_train.iloc[min_idx]\n",
    "    return dist\n",
    "            \n",
    "            "
   ]
  },
  {
   "cell_type": "code",
   "execution_count": 73,
   "metadata": {},
   "outputs": [
    {
     "data": {
      "text/plain": [
       "array([7., 3., 3., 4., 6., 6., 6., 4., 9., 1., 5., 0., 9., 6., 2., 8., 2.,\n",
       "       0., 0., 1., 7., 6., 3., 2., 1., 7., 4., 6., 3., 1., 3., 9., 1., 7.,\n",
       "       6., 8., 4., 3., 1., 4., 0., 5., 3., 6., 9., 6., 1., 7., 5., 4., 4.,\n",
       "       7., 2., 8., 2., 2., 5., 7., 9., 5., 4., 8., 8., 4., 9., 0., 8., 0.,\n",
       "       1., 2., 3., 4., 5., 6., 7., 8., 9., 0., 1., 2., 3., 4., 5., 6., 7.,\n",
       "       8., 9., 0., 1., 2., 3., 4., 5., 6., 7., 8., 9., 0., 9., 5., 5., 6.,\n",
       "       5., 0., 9., 8., 9., 8., 4., 1., 7., 7., 3., 5., 1., 0., 0., 2., 2.,\n",
       "       7., 8., 2., 0., 1., 2., 6., 3., 3., 7., 3., 3., 4., 6., 6., 6., 4.,\n",
       "       9., 1., 5., 0., 9., 5., 2., 8., 2., 0., 0., 1., 7., 6., 3., 2., 1.,\n",
       "       7., 4., 6., 3., 1., 3., 9., 1., 7., 6., 8., 4., 3., 1., 4., 0., 5.,\n",
       "       3., 6., 9., 6., 1., 7., 5., 4., 4., 7., 2., 8., 2., 2., 5., 7., 9.,\n",
       "       5., 4., 8., 8., 4., 9., 0., 9., 9., 8., 0., 1., 2., 3., 4., 5., 6.,\n",
       "       7., 1., 9., 0., 1., 2., 3., 4., 5., 6., 9., 0., 1., 2., 3., 4., 5.,\n",
       "       6., 7., 1., 9., 0., 9., 5., 5., 6., 5., 0., 9., 8., 5., 8., 4., 1.,\n",
       "       7., 7., 3., 5., 1., 0., 0., 2., 2., 7., 8., 2., 0., 1., 2., 6., 3.,\n",
       "       3., 7., 7., 8., 4., 6., 6., 6., 9., 9., 1., 5., 0., 9., 5., 2., 8.,\n",
       "       0., 1., 7., 6., 3., 2., 1., 7., 9., 6., 3., 1., 9., 9., 1., 7., 6.,\n",
       "       8., 4., 3., 1., 4., 0., 5., 3., 6., 9., 6., 1., 7., 5., 4., 4., 7.,\n",
       "       2., 2., 5., 7., 3., 5., 9., 4., 5., 0., 8., 9., 8., 0., 1., 2., 3.,\n",
       "       4., 5., 6., 7., 8., 9., 0., 1., 2., 3., 4., 5., 6., 7., 8., 9., 0.,\n",
       "       1., 2., 5., 4., 5., 6., 7., 8., 9., 0., 9., 5., 5., 6., 5., 0., 9.,\n",
       "       8., 9., 8., 4., 1., 7., 7., 3., 5., 1., 0., 0., 2., 2., 7., 8., 2.,\n",
       "       0., 1., 2., 6., 3., 8., 7., 3., 3., 4., 6., 6., 6., 4., 9., 1., 5.,\n",
       "       0., 9., 5., 2., 8., 2., 0., 0., 1., 7., 6., 3., 2., 1., 7., 4., 6.,\n",
       "       3., 1., 3., 9., 1., 7., 6., 8., 4., 5., 1., 4., 0., 5., 3., 6., 9.,\n",
       "       6., 1., 7., 5., 4., 4., 7., 2., 8., 2., 2., 5., 7., 9., 5., 4., 8.,\n",
       "       1., 4., 9., 0., 8., 9., 8.])"
      ]
     },
     "execution_count": 73,
     "metadata": {},
     "output_type": "execute_result"
    }
   ],
   "source": [
    "results = kNN(X_train, y_train, X_test)"
   ]
  },
  {
   "cell_type": "code",
   "execution_count": 74,
   "metadata": {},
   "outputs": [],
   "source": [
    "results = np.array([7., 3., 3., 4., 6., 6., 6., 4., 9., 1., 5., 0., 9., 6., 2., 8., 2.,\n",
    "       0., 0., 1., 7., 6., 3., 2., 1., 7., 4., 6., 3., 1., 3., 9., 1., 7.,\n",
    "       6., 8., 4., 3., 1., 4., 0., 5., 3., 6., 9., 6., 1., 7., 5., 4., 4.,\n",
    "       7., 2., 8., 2., 2., 5., 7., 9., 5., 4., 8., 8., 4., 9., 0., 8., 0.,\n",
    "       1., 2., 3., 4., 5., 6., 7., 8., 9., 0., 1., 2., 3., 4., 5., 6., 7.,\n",
    "       8., 9., 0., 1., 2., 3., 4., 5., 6., 7., 8., 9., 0., 9., 5., 5., 6.,\n",
    "       5., 0., 9., 8., 9., 8., 4., 1., 7., 7., 3., 5., 1., 0., 0., 2., 2.,\n",
    "       7., 8., 2., 0., 1., 2., 6., 3., 3., 7., 3., 3., 4., 6., 6., 6., 4.,\n",
    "       9., 1., 5., 0., 9., 5., 2., 8., 2., 0., 0., 1., 7., 6., 3., 2., 1.,\n",
    "       7., 4., 6., 3., 1., 3., 9., 1., 7., 6., 8., 4., 3., 1., 4., 0., 5.,\n",
    "       3., 6., 9., 6., 1., 7., 5., 4., 4., 7., 2., 8., 2., 2., 5., 7., 9.,\n",
    "       5., 4., 8., 8., 4., 9., 0., 9., 9., 8., 0., 1., 2., 3., 4., 5., 6.,\n",
    "       7., 1., 9., 0., 1., 2., 3., 4., 5., 6., 9., 0., 1., 2., 3., 4., 5.,\n",
    "       6., 7., 1., 9., 0., 9., 5., 5., 6., 5., 0., 9., 8., 5., 8., 4., 1.,\n",
    "       7., 7., 3., 5., 1., 0., 0., 2., 2., 7., 8., 2., 0., 1., 2., 6., 3.,\n",
    "       3., 7., 7., 8., 4., 6., 6., 6., 9., 9., 1., 5., 0., 9., 5., 2., 8.,\n",
    "       0., 1., 7., 6., 3., 2., 1., 7., 9., 6., 3., 1., 9., 9., 1., 7., 6.,\n",
    "       8., 4., 3., 1., 4., 0., 5., 3., 6., 9., 6., 1., 7., 5., 4., 4., 7.,\n",
    "       2., 2., 5., 7., 3., 5., 9., 4., 5., 0., 8., 9., 8., 0., 1., 2., 3.,\n",
    "       4., 5., 6., 7., 8., 9., 0., 1., 2., 3., 4., 5., 6., 7., 8., 9., 0.,\n",
    "       1., 2., 5., 4., 5., 6., 7., 8., 9., 0., 9., 5., 5., 6., 5., 0., 9.,\n",
    "       8., 9., 8., 4., 1., 7., 7., 3., 5., 1., 0., 0., 2., 2., 7., 8., 2.,\n",
    "       0., 1., 2., 6., 3., 8., 7., 3., 3., 4., 6., 6., 6., 4., 9., 1., 5.,\n",
    "       0., 9., 5., 2., 8., 2., 0., 0., 1., 7., 6., 3., 2., 1., 7., 4., 6.,\n",
    "       3., 1., 3., 9., 1., 7., 6., 8., 4., 5., 1., 4., 0., 5., 3., 6., 9.,\n",
    "       6., 1., 7., 5., 4., 4., 7., 2., 8., 2., 2., 5., 7., 9., 5., 4., 8.,\n",
    "       1., 4., 9., 0., 8., 9., 8.])"
   ]
  },
  {
   "cell_type": "code",
   "execution_count": 80,
   "metadata": {},
   "outputs": [],
   "source": [
    "answer = 1 - metrics.accuracy_score(y_test, results)"
   ]
  },
  {
   "cell_type": "code",
   "execution_count": 83,
   "metadata": {},
   "outputs": [],
   "source": [
    "rf = ensemble.RandomForestClassifier(n_estimators=1000)\n",
    "rf.fit(X_train, y_train)\n",
    "predictions = rf.predict(X_test)"
   ]
  },
  {
   "cell_type": "code",
   "execution_count": 85,
   "metadata": {},
   "outputs": [
    {
     "data": {
      "text/plain": [
       "0.06681514476614703"
      ]
     },
     "execution_count": 85,
     "metadata": {},
     "output_type": "execute_result"
    }
   ],
   "source": [
    "1 - metrics.accuracy_score(predictions, y_test)"
   ]
  }
 ],
 "metadata": {
  "kernelspec": {
   "display_name": "Python 3",
   "language": "python",
   "name": "python3"
  },
  "language_info": {
   "codemirror_mode": {
    "name": "ipython",
    "version": 3
   },
   "file_extension": ".py",
   "mimetype": "text/x-python",
   "name": "python",
   "nbconvert_exporter": "python",
   "pygments_lexer": "ipython3",
   "version": "3.8.5"
  }
 },
 "nbformat": 4,
 "nbformat_minor": 4
}
