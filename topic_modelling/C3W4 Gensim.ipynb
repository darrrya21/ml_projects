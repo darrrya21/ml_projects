{
 "cells": [
  {
   "cell_type": "markdown",
   "metadata": {},
   "source": [
    "# Пример использования Gensim"
   ]
  },
  {
   "cell_type": "code",
   "execution_count": 27,
   "metadata": {},
   "outputs": [],
   "source": [
    "from gensim import corpora, models\n",
    "import os\n",
    "from collections import defaultdict\n",
    "import nltk"
   ]
  },
  {
   "cell_type": "code",
   "execution_count": 29,
   "metadata": {},
   "outputs": [
    {
     "name": "stderr",
     "output_type": "stream",
     "text": [
      "[nltk_data] Downloading package stopwords to\n",
      "[nltk_data]     C:\\Users\\Dasha\\AppData\\Roaming\\nltk_data...\n",
      "[nltk_data]   Unzipping corpora\\stopwords.zip.\n"
     ]
    },
    {
     "data": {
      "text/plain": [
       "True"
      ]
     },
     "execution_count": 29,
     "metadata": {},
     "output_type": "execute_result"
    }
   ],
   "source": [
    "nltk.download('stopwords')"
   ]
  },
  {
   "cell_type": "code",
   "execution_count": 26,
   "metadata": {},
   "outputs": [],
   "source": [
    "with open('text.txt', 'r') as file: \n",
    "    documents = [doc.strip() for doc in file.readlines()]"
   ]
  },
  {
   "cell_type": "code",
   "execution_count": 30,
   "metadata": {},
   "outputs": [],
   "source": [
    "stop_words = nltk.corpus.stopwords.words('english')"
   ]
  },
  {
   "cell_type": "code",
   "execution_count": 33,
   "metadata": {},
   "outputs": [
    {
     "data": {
      "text/plain": [
       "['i',\n",
       " 'me',\n",
       " 'my',\n",
       " 'myself',\n",
       " 'we',\n",
       " 'our',\n",
       " 'ours',\n",
       " 'ourselves',\n",
       " 'you',\n",
       " \"you're\",\n",
       " \"you've\",\n",
       " \"you'll\",\n",
       " \"you'd\",\n",
       " 'your',\n",
       " 'yours',\n",
       " 'yourself',\n",
       " 'yourselves',\n",
       " 'he',\n",
       " 'him',\n",
       " 'his']"
      ]
     },
     "execution_count": 33,
     "metadata": {},
     "output_type": "execute_result"
    }
   ],
   "source": [
    "stop_words[:20]"
   ]
  },
  {
   "cell_type": "code",
   "execution_count": 34,
   "metadata": {},
   "outputs": [],
   "source": [
    "texts = [[word for word in document.lower().split() if len(word) >= 3 and word not in stop_words] \n",
    "         for document in documents]"
   ]
  },
  {
   "cell_type": "code",
   "execution_count": 35,
   "metadata": {},
   "outputs": [
    {
     "data": {
      "text/plain": [
       "[['human', 'machine', 'interface', 'lab', 'abc', 'computer', 'applications'],\n",
       " ['survey', 'user', 'opinion', 'computer', 'system', 'response', 'time'],\n",
       " ['eps', 'user', 'interface', 'management', 'system'],\n",
       " ['system', 'human', 'system', 'engineering', 'testing', 'eps'],\n",
       " ['relation', 'user', 'perceived', 'response', 'time', 'error', 'measurement'],\n",
       " ['generation', 'random', 'binary', 'unordered', 'trees'],\n",
       " ['intersection', 'graph', 'paths', 'trees'],\n",
       " ['graph', 'minors', 'widths', 'trees', 'well', 'quasi', 'ordering'],\n",
       " ['graph', 'minors', 'survey']]"
      ]
     },
     "execution_count": 35,
     "metadata": {},
     "output_type": "execute_result"
    }
   ],
   "source": [
    "texts"
   ]
  },
  {
   "cell_type": "code",
   "execution_count": 36,
   "metadata": {},
   "outputs": [],
   "source": [
    "dictionary = defaultdict(int)"
   ]
  },
  {
   "cell_type": "code",
   "execution_count": 37,
   "metadata": {},
   "outputs": [],
   "source": [
    "for text in texts: \n",
    "    for word in text: \n",
    "        dictionary[word] += 1"
   ]
  },
  {
   "cell_type": "code",
   "execution_count": 38,
   "metadata": {},
   "outputs": [],
   "source": [
    "tokens = [[token for token in text if dictionary[token] > 1] for text in texts]"
   ]
  },
  {
   "cell_type": "code",
   "execution_count": 39,
   "metadata": {},
   "outputs": [
    {
     "data": {
      "text/plain": [
       "[['human', 'interface', 'computer'],\n",
       " ['survey', 'user', 'computer', 'system', 'response', 'time'],\n",
       " ['eps', 'user', 'interface', 'system'],\n",
       " ['system', 'human', 'system', 'eps'],\n",
       " ['user', 'response', 'time'],\n",
       " ['trees'],\n",
       " ['graph', 'trees'],\n",
       " ['graph', 'minors', 'trees'],\n",
       " ['graph', 'minors', 'survey']]"
      ]
     },
     "execution_count": 39,
     "metadata": {},
     "output_type": "execute_result"
    }
   ],
   "source": [
    "tokens"
   ]
  },
  {
   "cell_type": "code",
   "execution_count": 40,
   "metadata": {},
   "outputs": [],
   "source": [
    "token_dictionary = corpora.Dictionary(tokens)"
   ]
  },
  {
   "cell_type": "code",
   "execution_count": 41,
   "metadata": {},
   "outputs": [],
   "source": [
    "corpus = [token_dictionary.doc2bow(text) for text in tokens]"
   ]
  },
  {
   "cell_type": "code",
   "execution_count": 42,
   "metadata": {},
   "outputs": [],
   "source": [
    "lsi_model = models.LsiModel(corpus, id2word=token_dictionary, num_topics=2)"
   ]
  },
  {
   "cell_type": "code",
   "execution_count": 43,
   "metadata": {},
   "outputs": [],
   "source": [
    "corpus_lsi = lsi_model[corpus]"
   ]
  },
  {
   "cell_type": "code",
   "execution_count": 44,
   "metadata": {},
   "outputs": [
    {
     "name": "stdout",
     "output_type": "stream",
     "text": [
      "[(0, 0.6594664059797392), (1, -0.14211544403729742)] Human machine interface for lab abc computer applications\n",
      "[(0, 2.0245430433828773), (1, 0.4208875824630156)] A survey of user opinion of computer system response time\n",
      "[(0, 1.5465535813286557), (1, -0.3235891942571172)] The EPS user interface management system\n",
      "[(0, 1.8111412473028845), (1, -0.5890524969932394)] System and human system engineering testing of EPS\n",
      "[(0, 0.9336738035634355), (1, 0.271389404993745)] Relation of user perceived response time to error measurement\n",
      "[(0, 0.012746183038294686), (1, 0.49016179245310576)] The generation of random binary unordered trees\n",
      "[(0, 0.048882032060470815), (1, 1.1129470269929582)] The intersection graph of paths in trees\n",
      "[(0, 0.08063836099410687), (1, 1.5634559463442699)] Graph minors IV Widths of trees and well quasi ordering\n",
      "[(0, 0.2738100392127577), (1, 1.3469415849537718)] Graph minors A survey\n"
     ]
    }
   ],
   "source": [
    "for doc, as_text in zip(documents, corpus_lsi): \n",
    "    print(as_text, doc)"
   ]
  },
  {
   "cell_type": "code",
   "execution_count": 45,
   "metadata": {},
   "outputs": [],
   "source": [
    "lda = models.LdaModel(corpus, id2word=token_dictionary, num_topics=2)"
   ]
  },
  {
   "cell_type": "code",
   "execution_count": 46,
   "metadata": {},
   "outputs": [],
   "source": [
    "corpus_lda = lda[corpus]"
   ]
  },
  {
   "cell_type": "code",
   "execution_count": 47,
   "metadata": {},
   "outputs": [
    {
     "data": {
      "text/plain": [
       "[(0,\n",
       "  '0.148*\"system\" + 0.100*\"graph\" + 0.090*\"human\" + 0.088*\"computer\" + 0.087*\"survey\" + 0.084*\"minors\" + 0.083*\"interface\" + 0.073*\"trees\" + 0.071*\"user\" + 0.068*\"eps\"'),\n",
       " (1,\n",
       "  '0.134*\"user\" + 0.131*\"trees\" + 0.099*\"time\" + 0.099*\"response\" + 0.095*\"graph\" + 0.086*\"system\" + 0.080*\"eps\" + 0.060*\"interface\" + 0.059*\"minors\" + 0.054*\"survey\"')]"
      ]
     },
     "execution_count": 47,
     "metadata": {},
     "output_type": "execute_result"
    }
   ],
   "source": [
    "lda.print_topics()"
   ]
  },
  {
   "cell_type": "code",
   "execution_count": 48,
   "metadata": {},
   "outputs": [
    {
     "name": "stdout",
     "output_type": "stream",
     "text": [
      "[(0, 0.85168225), (1, 0.14831774)] Human machine interface for lab abc computer applications\n",
      "[(0, 0.5488048), (1, 0.45119512)] A survey of user opinion of computer system response time\n",
      "[(0, 0.70600754), (1, 0.2939924)] The EPS user interface management system\n",
      "[(0, 0.8691444), (1, 0.13085559)] System and human system engineering testing of EPS\n",
      "[(0, 0.15082721), (1, 0.84917283)] Relation of user perceived response time to error measurement\n",
      "[(0, 0.30285984), (1, 0.69714016)] The generation of random binary unordered trees\n",
      "[(0, 0.2724569), (1, 0.7275431)] The intersection graph of paths in trees\n",
      "[(0, 0.56811506), (1, 0.4318849)] Graph minors IV Widths of trees and well quasi ordering\n",
      "[(0, 0.83587486), (1, 0.16412519)] Graph minors A survey\n"
     ]
    }
   ],
   "source": [
    "for doc, as_text in zip(documents, corpus_lda): \n",
    "    print(as_text, doc)"
   ]
  },
  {
   "cell_type": "code",
   "execution_count": 49,
   "metadata": {},
   "outputs": [],
   "source": [
    "data = corpora.UciCorpus('docword.xkcd.txt', 'vocab.xkcd.txt')"
   ]
  },
  {
   "cell_type": "code",
   "execution_count": 50,
   "metadata": {},
   "outputs": [],
   "source": [
    "dictionary = data.create_dictionary()"
   ]
  },
  {
   "cell_type": "code",
   "execution_count": 51,
   "metadata": {},
   "outputs": [],
   "source": [
    "lda = models.ldamodel.LdaModel(data, id2word=dictionary, passes=10, num_topics=5, alpha=1.25, eta=1.25)"
   ]
  },
  {
   "cell_type": "code",
   "execution_count": 52,
   "metadata": {},
   "outputs": [],
   "source": [
    "lda.save('lda_xkcd')"
   ]
  },
  {
   "cell_type": "code",
   "execution_count": 53,
   "metadata": {},
   "outputs": [
    {
     "name": "stdout",
     "output_type": "stream",
     "text": [
      "0 : 0.002*\"b'text'\" + 0.002*\"b'title'\" + 0.002*\"b'paul'\" + 0.001*\"b'ron'\" + 0.001*\"b'labeled'\" + 0.001*\"b'line'\" + 0.001*\"b'red'\" + 0.001*\"b'leopard'\" + 0.001*\"b'hit'\" + 0.001*\"b'human'\"\n",
      "1 : 0.019*\"b'person'\" + 0.008*\"b'text'\" + 0.008*\"b'girl'\" + 0.008*\"b'title'\" + 0.006*\"b'one'\" + 0.005*\"b'guy'\" + 0.003*\"b'right'\" + 0.003*\"b'boy'\" + 0.003*\"b'people'\" + 0.003*\"b'just'\"\n",
      "2 : 0.005*\"b'person'\" + 0.003*\"b'guy'\" + 0.002*\"b'text'\" + 0.001*\"b'title'\" + 0.001*\"b'page'\" + 0.001*\"b'goggles'\" + 0.001*\"b'link'\" + 0.001*\"b'one'\" + 0.001*\"b'error'\" + 0.001*\"b'people'\"\n",
      "3 : 0.032*\"b'man'\" + 0.013*\"b'woman'\" + 0.010*\"b'text'\" + 0.008*\"b'title'\" + 0.005*\"b'one'\" + 0.005*\"b'just'\" + 0.004*\"b'computer'\" + 0.004*\"b'two'\" + 0.004*\"b'figure'\" + 0.003*\"b'panel'\"\n",
      "4 : 0.012*\"b'guy'\" + 0.010*\"b'hat'\" + 0.004*\"b'black'\" + 0.003*\"b'text'\" + 0.002*\"b'title'\" + 0.001*\"b'woman'\" + 0.001*\"b'man'\" + 0.001*\"b'artist'\" + 0.001*\"b'elaine'\" + 0.001*\"b'two'\"\n"
     ]
    }
   ],
   "source": [
    "for t, top_words in lda.print_topics(): \n",
    "    print(t, ':', top_words)"
   ]
  }
 ],
 "metadata": {
  "kernelspec": {
   "display_name": "Python 3",
   "language": "python",
   "name": "python3"
  },
  "language_info": {
   "codemirror_mode": {
    "name": "ipython",
    "version": 3
   },
   "file_extension": ".py",
   "mimetype": "text/x-python",
   "name": "python",
   "nbconvert_exporter": "python",
   "pygments_lexer": "ipython3",
   "version": "3.8.5"
  }
 },
 "nbformat": 4,
 "nbformat_minor": 4
}
